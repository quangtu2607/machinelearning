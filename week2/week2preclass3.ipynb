{
  "nbformat": 4,
  "nbformat_minor": 0,
  "metadata": {
    "colab": {
      "name": "week2preclass3.ipynb",
      "provenance": [],
      "collapsed_sections": []
    },
    "kernelspec": {
      "name": "python3",
      "display_name": "Python 3"
    }
  },
  "cells": [
    {
      "cell_type": "markdown",
      "metadata": {
        "id": "SzZak2DFK3f3"
      },
      "source": [
        "#PROBLEM1\r\n",
        "A is 3x3, B is 3x3 => product matrix AB is 3x3. \r\n",
        "\r\n",
        "To obtain the entry in row 1, column 1 of AB, multiply the first row in A by the first column in B, and add.\r\n",
        "-1 x 0 + 2 x 0 + 3 x 2 = 6\r\n",
        "\r\n",
        "To obtain the entry in row 1, column 2 of AB, multiply the first row in A by the first column in B, and add.\r\n",
        "-1 x 2 + 2 x 2 + 3 x 9 = 29\r\n",
        "\r\n",
        "To obtain the entry in row 1, column 3 of AB, multiply the first row in A by the first column in B, and add.\r\n",
        "-1 x 1 + 2 x -8 + 3 x -1 = -20\r\n",
        "\r\n",
        "We proceed the same way to obtain AB. The product AB is [[6, 29, -20], [12, 52, 38], [-18, -51, -48]]\r\n",
        "      "
      ]
    },
    {
      "cell_type": "code",
      "metadata": {
        "colab": {
          "base_uri": "https://localhost:8080/"
        },
        "id": "A2bxPiveKVhV",
        "outputId": "dade8f08-9ca2-4139-a03d-2e8ae491e620"
      },
      "source": [
        "#PROBLEM2\r\n",
        "import numpy as np\r\n",
        "\r\n",
        "a_ndarray = np.array([[-1, 2, 3], [4, -5, 6], [7, 8, -9]])\r\n",
        "b_ndarray = np.array([[0, 2, 1], [0, 2, -8], [2, 9, -1]])\r\n",
        "\r\n",
        "print(np.matmul(a_ndarray, b_ndarray))\r\n",
        "print(np.dot(a_ndarray, b_ndarray))\r\n",
        "print(a_ndarray @ b_ndarray)"
      ],
      "execution_count": 6,
      "outputs": [
        {
          "output_type": "stream",
          "text": [
            "[[  6  29 -20]\n",
            " [ 12  52  38]\n",
            " [-18 -51 -48]]\n",
            "[[  6  29 -20]\n",
            " [ 12  52  38]\n",
            " [-18 -51 -48]]\n",
            "[[  6  29 -20]\n",
            " [ 12  52  38]\n",
            " [-18 -51 -48]]\n"
          ],
          "name": "stdout"
        }
      ]
    },
    {
      "cell_type": "code",
      "metadata": {
        "colab": {
          "base_uri": "https://localhost:8080/"
        },
        "id": "OwjZQXRTReRx",
        "outputId": "87b9eba5-9908-4eb4-ddfb-e2096511f220"
      },
      "source": [
        "#PROBLEM3\r\n",
        "import numpy as np\r\n",
        "\r\n",
        "a_ndarray = np.array([[-1, 2, 3], [4, -5, 6], [7, 8, -9]])\r\n",
        "b_ndarray = np.array([[0, 2, 1], [0, 2, -8], [2, 9, -1]])\r\n",
        "\r\n",
        "AB_00 = a_ndarray[0, 0] * b_ndarray[0, 0] + a_ndarray[0, 1] * b_ndarray[1, 0] + a_ndarray[0, 2] * b_ndarray[2, 0]\r\n",
        "print(AB_00)"
      ],
      "execution_count": 7,
      "outputs": [
        {
          "output_type": "stream",
          "text": [
            "6\n"
          ],
          "name": "stdout"
        }
      ]
    },
    {
      "cell_type": "code",
      "metadata": {
        "colab": {
          "base_uri": "https://localhost:8080/"
        },
        "id": "cEh8_xn3SSYK",
        "outputId": "339ffc54-fa34-4e23-dd98-af032ef426d7"
      },
      "source": [
        "#PROBLEM4\r\n",
        "import numpy as np\r\n",
        "\r\n",
        "a_ndarray = np.array([[-1, 2, 3], [4, -5, 6], [7, 8, -9]])\r\n",
        "b_ndarray = np.array([[0, 2, 1], [0, 2, -8], [2, 9, -1]])\r\n",
        "\r\n",
        "def calculate_matrix(a, b):\r\n",
        "  product = []\r\n",
        "  ele = 0\r\n",
        "  for i in range(len(a)):\r\n",
        "    for j in range(len(b[0])):\r\n",
        "      for k in range(len(b)):\r\n",
        "        ele += a[i][k] * b[k][j]\r\n",
        "      product.append(ele)\r\n",
        "      ele = 0\r\n",
        "  product = np.array(product)\r\n",
        "  product = product.reshape(len(a), len(b[0]))\r\n",
        "  return product\r\n",
        "\r\n",
        "result = calculate_matrix(a_ndarray, b_ndarray)\r\n",
        "print(result)"
      ],
      "execution_count": 39,
      "outputs": [
        {
          "output_type": "stream",
          "text": [
            "[[  6  29 -20]\n",
            " [ 12  52  38]\n",
            " [-18 -51 -48]]\n"
          ],
          "name": "stdout"
        }
      ]
    },
    {
      "cell_type": "code",
      "metadata": {
        "colab": {
          "base_uri": "https://localhost:8080/"
        },
        "id": "9HmM7w3VbtAn",
        "outputId": "00853c7c-7810-4694-95b9-ed798b478c40"
      },
      "source": [
        "#PROBLEM5\r\n",
        "import numpy as np\r\n",
        "\r\n",
        "d_ndarray = np.array([[-1, 2, 3], [4, -5, 6]])\r\n",
        "e_ndarray = np.array([[-9, 8, 7], [6, -5, 4]])\r\n",
        "\r\n",
        "def calculate_matrix(a, b):\r\n",
        "  if not ((len(a[0])) == len(b)):\r\n",
        "    print(\"Invalid input\")\r\n",
        "    return\r\n",
        "  product = []\r\n",
        "  ele = 0\r\n",
        "  for i in range(len(a)):\r\n",
        "    for j in range(len(b[0])):\r\n",
        "      for k in range(len(b)):\r\n",
        "        ele += a[i][k] * b[k][j]\r\n",
        "      product.append(ele)\r\n",
        "      ele = 0\r\n",
        "  product = np.array(product)\r\n",
        "  product = product.reshape(len(a), len(b[0]))\r\n",
        "  return product\r\n",
        "\r\n",
        "result = calculate_matrix(d_ndarray, e_ndarray)\r\n",
        "print(result)"
      ],
      "execution_count": 40,
      "outputs": [
        {
          "output_type": "stream",
          "text": [
            "Invalid input\n",
            "None\n"
          ],
          "name": "stdout"
        }
      ]
    },
    {
      "cell_type": "code",
      "metadata": {
        "colab": {
          "base_uri": "https://localhost:8080/"
        },
        "id": "qy6ddBZqcd_Q",
        "outputId": "0e86d0e4-ff20-43a3-d3e5-0909ccb120ae"
      },
      "source": [
        "#PROBLEM6\r\n",
        "import numpy as np\r\n",
        "\r\n",
        "d_ndarray = np.array([[-1, 2, 3], [4, -5, 6]])\r\n",
        "d_ndarray = np.transpose(d_ndarray)\r\n",
        "e_ndarray = np.array([[-9, 8, 7], [6, -5, 4]])\r\n",
        "\r\n",
        "def calculate_matrix(a, b):\r\n",
        "  if not ((len(a[0])) == len(b)):\r\n",
        "    print(\"Invalid input\")\r\n",
        "    return\r\n",
        "  product = []\r\n",
        "  ele = 0\r\n",
        "  for i in range(len(a)):\r\n",
        "    for j in range(len(b[0])):\r\n",
        "      for k in range(len(b)):\r\n",
        "        ele += a[i][k] * b[k][j]\r\n",
        "      product.append(ele)\r\n",
        "      ele = 0\r\n",
        "  product = np.array(product)\r\n",
        "  product = product.reshape(len(a), len(b[0]))\r\n",
        "  return product\r\n",
        "\r\n",
        "result = calculate_matrix(d_ndarray, e_ndarray)\r\n",
        "print(result)"
      ],
      "execution_count": 41,
      "outputs": [
        {
          "output_type": "stream",
          "text": [
            "[[ 33 -28   9]\n",
            " [-48  41  -6]\n",
            " [  9  -6  45]]\n"
          ],
          "name": "stdout"
        }
      ]
    }
  ]
}