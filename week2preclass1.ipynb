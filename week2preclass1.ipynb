{
  "nbformat": 4,
  "nbformat_minor": 0,
  "metadata": {
    "colab": {
      "name": "week2preclass1.ipynb",
      "provenance": [],
      "collapsed_sections": []
    },
    "kernelspec": {
      "name": "python3",
      "display_name": "Python 3"
    }
  },
  "cells": [
    {
      "cell_type": "code",
      "metadata": {
        "colab": {
          "base_uri": "https://localhost:8080/"
        },
        "id": "0ruyhTACCgOt",
        "outputId": "95657613-9b50-4898-e4f2-f867d42cb181"
      },
      "source": [
        "#PROBLEM1\r\n",
        "import numpy as np\r\n",
        "\r\n",
        "n_squares = 4\r\n",
        "small_board_list = [1]\r\n",
        "for _ in range(n_squares - 1):\r\n",
        "    small_board_list.append(2*small_board_list[-1])\r\n",
        "small_board_ndarray = np.array(small_board_list)\r\n",
        "small_board_ndarray = small_board_ndarray.reshape(2,2)\r\n",
        "print(\"Arrange wheat on a plate of 4 squares (ndarray)：{}\".format(small_board_ndarray))"
      ],
      "execution_count": 8,
      "outputs": [
        {
          "output_type": "stream",
          "text": [
            "(4,)\n",
            "Arrange wheat on a plate of 4 squares (ndarray)：[[1 2]\n",
            " [4 8]]\n"
          ],
          "name": "stdout"
        }
      ]
    },
    {
      "cell_type": "code",
      "metadata": {
        "colab": {
          "base_uri": "https://localhost:8080/"
        },
        "id": "FKn_kyuRF6df",
        "outputId": "f3af40bb-c2b5-43f6-a60f-87668b0c2b43"
      },
      "source": [
        "#PROBLEM2\r\n",
        "import numpy as np\r\n",
        "\r\n",
        "def ndarray_chess_board(n, m):\r\n",
        "  chess_board = [1]\r\n",
        "  for _ in range(n*m - 1):\r\n",
        "    chess_board.append(2*chess_board[-1])\r\n",
        "  chess_board = np.array(chess_board)\r\n",
        "  chess_board = chess_board.reshape(n, m)\r\n",
        "  return chess_board\r\n",
        "\r\n",
        "random_board = ndarray_chess_board(8, 8)\r\n",
        "print(\"Arrange wheat on a plate of n x m：{}\".format(random_board))"
      ],
      "execution_count": 83,
      "outputs": [
        {
          "output_type": "stream",
          "text": [
            "Arrange wheat on a plate of n x m：[[1.00000000e+00 2.00000000e+00 4.00000000e+00 8.00000000e+00\n",
            "  1.60000000e+01 3.20000000e+01 6.40000000e+01 1.28000000e+02]\n",
            " [2.56000000e+02 5.12000000e+02 1.02400000e+03 2.04800000e+03\n",
            "  4.09600000e+03 8.19200000e+03 1.63840000e+04 3.27680000e+04]\n",
            " [6.55360000e+04 1.31072000e+05 2.62144000e+05 5.24288000e+05\n",
            "  1.04857600e+06 2.09715200e+06 4.19430400e+06 8.38860800e+06]\n",
            " [1.67772160e+07 3.35544320e+07 6.71088640e+07 1.34217728e+08\n",
            "  2.68435456e+08 5.36870912e+08 1.07374182e+09 2.14748365e+09]\n",
            " [4.29496730e+09 8.58993459e+09 1.71798692e+10 3.43597384e+10\n",
            "  6.87194767e+10 1.37438953e+11 2.74877907e+11 5.49755814e+11]\n",
            " [1.09951163e+12 2.19902326e+12 4.39804651e+12 8.79609302e+12\n",
            "  1.75921860e+13 3.51843721e+13 7.03687442e+13 1.40737488e+14]\n",
            " [2.81474977e+14 5.62949953e+14 1.12589991e+15 2.25179981e+15\n",
            "  4.50359963e+15 9.00719925e+15 1.80143985e+16 3.60287970e+16]\n",
            " [7.20575940e+16 1.44115188e+17 2.88230376e+17 5.76460752e+17\n",
            "  1.15292150e+18 2.30584301e+18 4.61168602e+18 9.22337204e+18]]\n"
          ],
          "name": "stdout"
        }
      ]
    },
    {
      "cell_type": "code",
      "metadata": {
        "colab": {
          "base_uri": "https://localhost:8080/",
          "height": 312
        },
        "id": "eFoY64ivHk1u",
        "outputId": "c0dc334d-b176-439a-fd0b-0fb3479c3ab7"
      },
      "source": [
        "#PROBLEM3\r\n",
        "import numpy as np\r\n",
        "import matplotlib.pyplot as plt\r\n",
        "\r\n",
        "def ndarray_chess_board(n, m):\r\n",
        "  sum = 1\r\n",
        "  avg = 0\r\n",
        "  avg_each_column = []\r\n",
        "  chess_board = [1]\r\n",
        "  for _ in range(n*m - 1):\r\n",
        "    chess_board.append(2*chess_board[-1])\r\n",
        "    sum += chess_board[-1]\r\n",
        "  print(\"Total number of wheat: {}\".format(sum))\r\n",
        "  chess_board = np.array(chess_board)\r\n",
        "  chess_board = chess_board.reshape(n, m)\r\n",
        "  for i in range(m):\r\n",
        "    for j in range(n):\r\n",
        "      avg += chess_board[j][i]\r\n",
        "    avg /= n\r\n",
        "    avg_each_column.append(avg)\r\n",
        "  return avg_each_column\r\n",
        "\r\n",
        "%matplotlib inline\r\n",
        "plt.xlabel(\"column\")\r\n",
        "plt.ylabel(\"number\")\r\n",
        "plt.title(\"number in each column\")\r\n",
        "plt.bar(np.arange(1,9), ndarray_chess_board(8, 8))\r\n",
        "plt.show()"
      ],
      "execution_count": 51,
      "outputs": [
        {
          "output_type": "stream",
          "text": [
            "Total number of wheat: 18446744073709551615\n"
          ],
          "name": "stdout"
        },
        {
          "output_type": "display_data",
          "data": {
            "image/png": "[encoded data removed]",
            "text/plain": [
              "<Figure size 432x288 with 1 Axes>"
            ]
          },
          "metadata": {
            "tags": [],
            "needs_background": "light"
          }
        }
      ]
    },
    {
      "cell_type": "code",
      "metadata": {
        "colab": {
          "base_uri": "https://localhost:8080/",
          "height": 295
        },
        "id": "KbKquBjZY3lx",
        "outputId": "d3d01527-2e3c-4ca8-b261-2111d9027db3"
      },
      "source": [
        "#PROBLEM4\r\n",
        "import numpy as np\r\n",
        "import matplotlib.pyplot as plt\r\n",
        "\r\n",
        "def ndarray_chess_board(n, m):\r\n",
        "  chess_board = [1]\r\n",
        "  for _ in range(n*m - 1):\r\n",
        "    chess_board.append(2*chess_board[-1])\r\n",
        "  chess_board = np.array(chess_board)\r\n",
        "  chess_board = chess_board.reshape(n, m)\r\n",
        "  return chess_board\r\n",
        "\r\n",
        "random_board = ndarray_chess_board(8, 8)\r\n",
        "\r\n",
        "plt.xlabel(\"column\")\r\n",
        "plt.ylabel(\"row\")\r\n",
        "plt.title(\"heatmap\")\r\n",
        "plt.pcolor(random_board)\r\n",
        "plt.show()"
      ],
      "execution_count": 56,
      "outputs": [
        {
          "output_type": "display_data",
          "data": {
            "image/png": "[encoded data removed]",
            "text/plain": [
              "<Figure size 432x288 with 1 Axes>"
            ]
          },
          "metadata": {
            "tags": [],
            "needs_background": "light"
          }
        }
      ]
    },
    {
      "cell_type": "code",
      "metadata": {
        "colab": {
          "base_uri": "https://localhost:8080/"
        },
        "id": "vfT74Hx9aNFq",
        "outputId": "33535fa9-7409-4ad7-83bb-3e7891073781"
      },
      "source": [
        "#PROBLEM5\r\n",
        "import numpy as np\r\n",
        "\r\n",
        "def ndarray_chess_board(n, m):\r\n",
        "  chess_board = [1]\r\n",
        "  for _ in range(n*m - 1):\r\n",
        "    chess_board.append(2*chess_board[-1])\r\n",
        "  chess_board = np.array(chess_board)\r\n",
        "  chess_board = chess_board.reshape(n, m)\r\n",
        "  return chess_board\r\n",
        "\r\n",
        "random_board = ndarray_chess_board(8, 8)\r\n",
        "sum_first_half = 0\r\n",
        "sum_second_half = 0\r\n",
        "for i in range(0, 4):\r\n",
        "  for j in range(0, 8):\r\n",
        "    sum_first_half += random_board[i][j]\r\n",
        "\r\n",
        "for i in range(4, 8):\r\n",
        "  for j in range(0, 8):\r\n",
        "    sum_second_half += random_board[i][j]\r\n",
        "print(\"The second half is {} time(s) greater than the first half.\".format(sum_second_half / sum_first_half))\r\n"
      ],
      "execution_count": 68,
      "outputs": [
        {
          "output_type": "stream",
          "text": [
            "The second half is 4294967296.0 time(s) greater than the first half.\n"
          ],
          "name": "stdout"
        }
      ]
    },
    {
      "cell_type": "code",
      "metadata": {
        "colab": {
          "base_uri": "https://localhost:8080/"
        },
        "id": "JTGsjlJteAGo",
        "outputId": "09a1f59d-8c42-47e9-f490-3b2fd4e35d26"
      },
      "source": [
        "n_squares = 4\r\n",
        "small_board_list = [1]\r\n",
        "for _ in range(n_squares - 1):\r\n",
        "    small_board_list.append(2*small_board_list[-1])\r\n",
        "print(\"Arrange wheat on a plate of 4 squares (list)：{}\".format(small_board_list))\r\n",
        "\r\n",
        "n_squares = 4\r\n",
        "small_board_ndarray = np.array([1])\r\n",
        "for _ in range(n_squares - 1):\r\n",
        "    small_board_ndarray = np.append(small_board_ndarray, 2*small_board_ndarray[-1])\r\n",
        "print(\"Arrange wheat on a plate of 4 squares (ndarray)：{}\".format(small_board_ndarray))\r\n",
        "\r\n",
        "n_squares = 4\r\n",
        "indices_of_squares = np.arange(n_squares)\r\n",
        "small_board_ndarray = 2**indices_of_squares\r\n",
        "print(\"Arrange wheat on a plate of 4 squares (ndarray)：{}\".format(small_board_ndarray))\r\n",
        "\r\n",
        "n_squares = 64\r\n",
        "indices_of_squares = np.arange(n_squares)\r\n",
        "board_ndarray = 2**indices_of_squares\r\n",
        "print(\"Number of wheat in the last trout：{}\".format(board_ndarray[-1])) # -9223372036854775808\r\n",
        "\r\n",
        "n_squares = 64\r\n",
        "indices_of_squares = np.arange(n_squares).astype(np.uint64)\r\n",
        "board_ndarray = 2**indices_of_squares\r\n",
        "print(\"Number of wheat in the last trout：{}\".format(board_ndarray[-1])) # 9223372036854775808"
      ],
      "execution_count": 76,
      "outputs": [
        {
          "output_type": "stream",
          "text": [
            "Arrange wheat on a plate of 4 squares (list)：[1, 2, 4, 8]\n",
            "Arrange wheat on a plate of 4 squares (ndarray)：[1 2 4 8]\n",
            "Arrange wheat on a plate of 4 squares (ndarray)：[1 2 4 8]\n",
            "Number of wheat in the last trout：-9223372036854775808\n",
            "Number of wheat in the last trout：9223372036854775808\n",
            "uint64\n"
          ],
          "name": "stdout"
        }
      ]
    },
    {
      "cell_type": "code",
      "metadata": {
        "colab": {
          "base_uri": "https://localhost:8080/"
        },
        "id": "wgamKl74h3wP",
        "outputId": "34527414-379a-407c-f1e9-83a1240e037e"
      },
      "source": [
        "#PROBLEM6a\r\n",
        "import numpy as np\r\n",
        "\r\n",
        "def ndarray_chess_board(n, m):\r\n",
        "  chess_board = [1]\r\n",
        "  for _ in range(n*m - 1):\r\n",
        "    chess_board = np.append(chess_board, 2*chess_board[-1]).astype(np.uint64)\r\n",
        "  chess_board = chess_board.reshape(n, m)\r\n",
        "  return chess_board\r\n",
        "\r\n",
        "random_board = ndarray_chess_board(8, 8)\r\n",
        "print(\"Arrange wheat on a plate of n x m：{}\".format(random_board))"
      ],
      "execution_count": 80,
      "outputs": [
        {
          "output_type": "stream",
          "text": [
            "Arrange wheat on a plate of n x m：[[                  1                   2                   4\n",
            "                    8                  16                  32\n",
            "                   64                 128]\n",
            " [                256                 512                1024\n",
            "                 2048                4096                8192\n",
            "                16384               32768]\n",
            " [              65536              131072              262144\n",
            "               524288             1048576             2097152\n",
            "              4194304             8388608]\n",
            " [           16777216            33554432            67108864\n",
            "            134217728           268435456           536870912\n",
            "           1073741824          2147483648]\n",
            " [         4294967296          8589934592         17179869184\n",
            "          34359738368         68719476736        137438953472\n",
            "         274877906944        549755813888]\n",
            " [      1099511627776       2199023255552       4398046511104\n",
            "        8796093022208      17592186044416      35184372088832\n",
            "       70368744177664     140737488355328]\n",
            " [    281474976710656     562949953421312    1125899906842624\n",
            "     2251799813685248    4503599627370496    9007199254740992\n",
            "    18014398509481984   36028797018963968]\n",
            " [  72057594037927936  144115188075855872  288230376151711744\n",
            "   576460752303423488 1152921504606846976 2305843009213693952\n",
            "  4611686018427387904 9223372036854775808]]\n"
          ],
          "name": "stdout"
        }
      ]
    },
    {
      "cell_type": "code",
      "metadata": {
        "colab": {
          "base_uri": "https://localhost:8080/"
        },
        "id": "agcn7AuKirUM",
        "outputId": "cdcb64ee-9be5-4206-f9bb-957bafb16c31"
      },
      "source": [
        "#PROBLEM6b\r\n",
        "import numpy as np\r\n",
        "\r\n",
        "def ndarray_chess_board(n, m):\r\n",
        "  indices_of_squares = np.arange(n*m).astype(np.uint64)\r\n",
        "  chess_board = 2**indices_of_squares\r\n",
        "  chess_board = chess_board.reshape(n, m)\r\n",
        "  return chess_board\r\n",
        "\r\n",
        "random_board = ndarray_chess_board(8, 8)\r\n",
        "print(\"Arrange wheat on a plate of n x m：{}\".format(random_board))"
      ],
      "execution_count": 94,
      "outputs": [
        {
          "output_type": "stream",
          "text": [
            "Arrange wheat on a plate of n x m：[[                  1                   2                   4\n",
            "                    8                  16                  32\n",
            "                   64                 128]\n",
            " [                256                 512                1024\n",
            "                 2048                4096                8192\n",
            "                16384               32768]\n",
            " [              65536              131072              262144\n",
            "               524288             1048576             2097152\n",
            "              4194304             8388608]\n",
            " [           16777216            33554432            67108864\n",
            "            134217728           268435456           536870912\n",
            "           1073741824          2147483648]\n",
            " [         4294967296          8589934592         17179869184\n",
            "          34359738368         68719476736        137438953472\n",
            "         274877906944        549755813888]\n",
            " [      1099511627776       2199023255552       4398046511104\n",
            "        8796093022208      17592186044416      35184372088832\n",
            "       70368744177664     140737488355328]\n",
            " [    281474976710656     562949953421312    1125899906842624\n",
            "     2251799813685248    4503599627370496    9007199254740992\n",
            "    18014398509481984   36028797018963968]\n",
            " [  72057594037927936  144115188075855872  288230376151711744\n",
            "   576460752303423488 1152921504606846976 2305843009213693952\n",
            "  4611686018427387904 9223372036854775808]]\n"
          ],
          "name": "stdout"
        }
      ]
    },
    {
      "cell_type": "markdown",
      "metadata": {
        "id": "aY7MUw4Alrks"
      },
      "source": [
        "#PROBLEM7\r\n",
        "Broadcast method takes least time to execute."
      ]
    },
    {
      "cell_type": "code",
      "metadata": {
        "colab": {
          "base_uri": "https://localhost:8080/"
        },
        "id": "fKTLs1tokpA1",
        "outputId": "7f5a11a2-51cb-4635-97f7-259ed7663e72"
      },
      "source": [
        "#PROBLEM7a\r\n",
        "%%timeit\r\n",
        "import numpy as np\r\n",
        "\r\n",
        "def ndarray_chess_board(n, m):\r\n",
        "  chess_board = [1]\r\n",
        "  for _ in range(n*m - 1):\r\n",
        "    chess_board.append(2*chess_board[-1])\r\n",
        "  chess_board = np.array(chess_board)\r\n",
        "  chess_board = chess_board.reshape(n, m)\r\n",
        "  return chess_board\r\n",
        "\r\n",
        "random_board = ndarray_chess_board(8, 8)"
      ],
      "execution_count": 97,
      "outputs": [
        {
          "output_type": "stream",
          "text": [
            "The slowest run took 6.58 times longer than the fastest. This could mean that an intermediate result is being cached.\n",
            "100000 loops, best of 5: 16.4 µs per loop\n"
          ],
          "name": "stdout"
        }
      ]
    },
    {
      "cell_type": "code",
      "metadata": {
        "colab": {
          "base_uri": "https://localhost:8080/"
        },
        "id": "QRB67BXKk3-Z",
        "outputId": "12b85bd1-861b-4cb9-ba8f-9667e7908cef"
      },
      "source": [
        "#PROBLEM7b\r\n",
        "%%timeit\r\n",
        "import numpy as np\r\n",
        "\r\n",
        "def ndarray_chess_board(n, m):\r\n",
        "  chess_board = [1]\r\n",
        "  for _ in range(n*m - 1):\r\n",
        "    chess_board = np.append(chess_board, 2*chess_board[-1]).astype(np.uint64)\r\n",
        "  chess_board = chess_board.reshape(n, m)\r\n",
        "  return chess_board\r\n",
        "\r\n",
        "random_board = ndarray_chess_board(8, 8)"
      ],
      "execution_count": 96,
      "outputs": [
        {
          "output_type": "stream",
          "text": [
            "The slowest run took 7.68 times longer than the fastest. This could mean that an intermediate result is being cached.\n",
            "1000 loops, best of 5: 623 µs per loop\n"
          ],
          "name": "stdout"
        }
      ]
    },
    {
      "cell_type": "code",
      "metadata": {
        "colab": {
          "base_uri": "https://localhost:8080/"
        },
        "id": "4AYTieiwlDa2",
        "outputId": "e0c2a7be-4f04-473b-82d6-8289a52ed069"
      },
      "source": [
        "#PROBLEM7c\r\n",
        "%%timeit\r\n",
        "import numpy as np\r\n",
        "\r\n",
        "def ndarray_chess_board(n, m):\r\n",
        "  indices_of_squares = np.arange(n*m).astype(np.uint64)\r\n",
        "  chess_board = 2**indices_of_squares\r\n",
        "  chess_board = chess_board.reshape(n, m)\r\n",
        "  return chess_board\r\n",
        "\r\n",
        "random_board = ndarray_chess_board(8, 8)"
      ],
      "execution_count": 95,
      "outputs": [
        {
          "output_type": "stream",
          "text": [
            "The slowest run took 17.11 times longer than the fastest. This could mean that an intermediate result is being cached.\n",
            "100000 loops, best of 5: 4.15 µs per loop\n"
          ],
          "name": "stdout"
        }
      ]
    }
  ]
}