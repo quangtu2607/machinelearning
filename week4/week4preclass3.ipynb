{
  "nbformat": 4,
  "nbformat_minor": 0,
  "metadata": {
    "colab": {
      "name": "week4preclass3.ipynb",
      "provenance": [],
      "collapsed_sections": []
    },
    "kernelspec": {
      "name": "python3",
      "display_name": "Python 3"
    },
    "language_info": {
      "name": "python"
    }
  },
  "cells": [
    {
      "cell_type": "code",
      "metadata": {
        "id": "T42elOEdIP6U"
      },
      "source": [
        "import numpy as np\n",
        "from sklearn.preprocessing import StandardScaler\n",
        "from sklearn.datasets import load_iris"
      ],
      "execution_count": 33,
      "outputs": []
    },
    {
      "cell_type": "markdown",
      "metadata": {
        "id": "zbYF-f6Eh7-c"
      },
      "source": [
        "#PROBLEM1\n",
        "StandardScaler\n",
        "\n",
        "DataFrame\n",
        "\n",
        "LinearRegression\n",
        "\n",
        "KNeighborsClassifier\n",
        "\n",
        "Timestamp"
      ]
    },
    {
      "cell_type": "code",
      "metadata": {
        "colab": {
          "base_uri": "https://localhost:8080/"
        },
        "id": "uCiM3LZCiY7Y",
        "outputId": "96f8fa21-ec21-4730-d927-3c7152802241"
      },
      "source": [
        "data = load_iris()\n",
        "X = data.data[:10]\n",
        "scaler = StandardScaler()\n",
        "\n",
        "scaler = StandardScaler()\n",
        "scaler.fit(X)"
      ],
      "execution_count": 9,
      "outputs": [
        {
          "output_type": "execute_result",
          "data": {
            "text/plain": [
              "StandardScaler(copy=True, with_mean=True, with_std=True)"
            ]
          },
          "metadata": {
            "tags": []
          },
          "execution_count": 9
        }
      ]
    },
    {
      "cell_type": "code",
      "metadata": {
        "colab": {
          "base_uri": "https://localhost:8080/"
        },
        "id": "mcqOcrcpj8MQ",
        "outputId": "e29b04fc-b0b5-4146-e36c-eda4ea40ef1a"
      },
      "source": [
        "print(\"Mean : {}\".format(scaler.mean_)) \n",
        "print(\"Var : {}\".format(scaler.var_)) "
      ],
      "execution_count": 10,
      "outputs": [
        {
          "output_type": "stream",
          "text": [
            "Mean : [4.86 3.31 1.45 0.22]\n",
            "Var : [0.0764 0.0849 0.0105 0.0056]\n"
          ],
          "name": "stdout"
        }
      ]
    },
    {
      "cell_type": "markdown",
      "metadata": {
        "id": "7uMLMKJBkb87"
      },
      "source": [
        "#PROBLEM2\n",
        "\n",
        "\n",
        "\n",
        "\n",
        "> Instance variable:\n",
        "1.   pandas.DataFrame.size\n",
        "2.   pandas.DataFrame.index\n",
        "3.   sklearn.preprocessing.StandardScaler.mean_\n",
        "4.   sklearn.preprocessing.StandardScaler.var_\n",
        "\n",
        "\n",
        "> Method:\n",
        "1.   numpy.hstack\n",
        "2.   numpy.concatenate\n",
        "3.   sklearn.linear_model.LinearRegression.fit\n",
        "4.   sklearn.linear_model.LinearRegression.predict\n",
        "\n",
        "\n",
        "\n",
        "\n",
        "\n"
      ]
    },
    {
      "cell_type": "code",
      "metadata": {
        "colab": {
          "base_uri": "https://localhost:8080/"
        },
        "id": "X1w72c5ekY7O",
        "outputId": "69594b68-a8e7-4c9c-812a-73d4f2a920e2"
      },
      "source": [
        "X_std = scaler.transform(X)\n",
        "X_std"
      ],
      "execution_count": 11,
      "outputs": [
        {
          "output_type": "execute_result",
          "data": {
            "text/plain": [
              "array([[ 0.86828953,  0.65207831, -0.48795004, -0.26726124],\n",
              "       [ 0.14471492, -1.06391725, -0.48795004, -0.26726124],\n",
              "       [-0.57885968, -0.37751902, -1.46385011, -0.26726124],\n",
              "       [-0.94064699, -0.72071813,  0.48795004, -0.26726124],\n",
              "       [ 0.50650222,  0.99527742, -0.48795004, -0.26726124],\n",
              "       [ 1.95365143,  2.02487476,  2.43975018,  2.40535118],\n",
              "       [-0.94064699,  0.3088792 , -0.48795004,  1.06904497],\n",
              "       [ 0.50650222,  0.3088792 ,  0.48795004, -0.26726124],\n",
              "       [-1.66422159, -1.40711636, -0.48795004, -0.26726124],\n",
              "       [ 0.14471492, -0.72071813,  0.48795004, -1.60356745]])"
            ]
          },
          "metadata": {
            "tags": []
          },
          "execution_count": 11
        }
      ]
    },
    {
      "cell_type": "code",
      "metadata": {
        "id": "lVXvbPqWm0CZ"
      },
      "source": [
        "#PROBLEM3\n",
        "class ScratchStandardScaler():\n",
        "    \"\"\"\n",
        "    標準化のためのクラス\n",
        "    Attributes\n",
        "    ----------\n",
        "    mean_ : 次の形のndarray, shape(n_features,)\n",
        "        平均\n",
        "    var_ : 次の形のndarray, shape(n_features,)\n",
        "        分散\n",
        "    \"\"\"\n",
        "    def fit(self, X):\n",
        "        \"\"\"\n",
        "        標準化のために平均と標準偏差を計算する。\n",
        "        Parameters\n",
        "        ----------\n",
        "        X : 次の形のndarray, shape (n_samples, n_features)\n",
        "            訓練データ\n",
        "        \"\"\"\n",
        "        self.mean_ = np.mean(X, axis=0)\n",
        "        self.var_ = np.var(X, axis=0)\n",
        "\n",
        "    def transform(self, X):\n",
        "        \"\"\"\n",
        "        fitで求めた値を使い標準化を行う。\n",
        "        Parameters\n",
        "        ----------\n",
        "        X : 次の形のndarray, shape (n_samples, n_features)\n",
        "            特徴量\n",
        "        Returns\n",
        "        ----------\n",
        "        X_scaled : 次の形のndarray, shape (n_samples, n_features)\n",
        "            標準化された特緒量\n",
        "        \"\"\"\n",
        "        X_scaled = (X - self.mean_)/np.sqrt(self.var_)\n",
        "        return X_scaled"
      ],
      "execution_count": 34,
      "outputs": []
    },
    {
      "cell_type": "code",
      "metadata": {
        "colab": {
          "base_uri": "https://localhost:8080/"
        },
        "id": "h8MxDcgtoA_2",
        "outputId": "4712f699-a4a8-4761-80b0-794312c4f376"
      },
      "source": [
        "data = load_iris()\n",
        "X = data.data[:10]\n",
        "scratch_scaler = ScratchStandardScaler()\n",
        "scratch_scaler.fit(X)\n",
        "print(\"Mean : {}\".format(scratch_scaler.mean_))\n",
        "print(\"Var : {}\".format(scratch_scaler.var_))\n",
        "X_std = scratch_scaler.transform(X)\n",
        "print(X_std)"
      ],
      "execution_count": 35,
      "outputs": [
        {
          "output_type": "stream",
          "text": [
            "Mean : [4.86 3.31 1.45 0.22]\n",
            "Var : [0.0764 0.0849 0.0105 0.0056]\n",
            "[[ 0.86828953  0.65207831 -0.48795004 -0.26726124]\n",
            " [ 0.14471492 -1.06391725 -0.48795004 -0.26726124]\n",
            " [-0.57885968 -0.37751902 -1.46385011 -0.26726124]\n",
            " [-0.94064699 -0.72071813  0.48795004 -0.26726124]\n",
            " [ 0.50650222  0.99527742 -0.48795004 -0.26726124]\n",
            " [ 1.95365143  2.02487476  2.43975018  2.40535118]\n",
            " [-0.94064699  0.3088792  -0.48795004  1.06904497]\n",
            " [ 0.50650222  0.3088792   0.48795004 -0.26726124]\n",
            " [-1.66422159 -1.40711636 -0.48795004 -0.26726124]\n",
            " [ 0.14471492 -0.72071813  0.48795004 -1.60356745]]\n"
          ],
          "name": "stdout"
        }
      ]
    },
    {
      "cell_type": "code",
      "metadata": {
        "colab": {
          "base_uri": "https://localhost:8080/"
        },
        "id": "tIre_EORsDpS",
        "outputId": "a25307ff-dc88-459c-9b89-167e11b2473f"
      },
      "source": [
        "#PROBLEM4\n",
        "class OperationClass():\n",
        "    \"\"\"\n",
        "    説明用の簡単なクラス\n",
        "    Parameters\n",
        "    ----------\n",
        "    value : float or int\n",
        "        初期値\n",
        "    Attributes\n",
        "    ----------\n",
        "    value : float or int\n",
        "        計算結果\n",
        "    \"\"\"\n",
        "    def __init__(self, value):\n",
        "      if type(value) == int or type(value) == float:\n",
        "        self.value = value\n",
        "        print(\"初期値{}が設定されました\".format(self.value))\n",
        "      else:\n",
        "        raise Exception(\"Invalid\")\n",
        "    def add(self, value2):\n",
        "        \"\"\"\n",
        "        受け取った引数をself.valueに加える\n",
        "        \"\"\"\n",
        "        self.value += value2\n",
        "    def sub(self, value2):\n",
        "        self.value -= value2\n",
        "    def mul(self, value2):\n",
        "        self.value *= value2\n",
        "    def div(self, value2):\n",
        "        self.value /= value2\n",
        "\n",
        "example = OperationClass(5)\n",
        "print(\"value : {}\".format(example.value))\n",
        "example.add(3)\n",
        "print(\"value : {}\".format(example.value))\n",
        "example.sub(4)\n",
        "print(\"value : {}\".format(example.value))\n",
        "example.mul(10)\n",
        "print(\"value : {}\".format(example.value))\n",
        "example.div(20)\n",
        "print(\"value : {}\".format(example.value))"
      ],
      "execution_count": 49,
      "outputs": [
        {
          "output_type": "stream",
          "text": [
            "初期値5が設定されました\n",
            "value : 5\n",
            "value : 8\n",
            "value : 4\n",
            "value : 40\n",
            "value : 2.0\n"
          ],
          "name": "stdout"
        }
      ]
    }
  ]
}